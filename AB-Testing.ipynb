{
 "cells": [
  {
   "cell_type": "code",
   "execution_count": 4,
   "id": "9b3fc26e-3ef1-4fe8-999f-d407b31f00ab",
   "metadata": {},
   "outputs": [],
   "source": [
    "import numpy as np\n",
    "import pandas as pd\n",
    "import seaborn as sns"
   ]
  },
  {
   "cell_type": "code",
   "execution_count": 5,
   "id": "f95fbe60-387f-4b21-8235-3ea14c68c421",
   "metadata": {},
   "outputs": [],
   "source": [
    "a = np.array([23, 21, 19, 24, 35, 17, 18, 24, 33, 27, 21, 23])\n",
    "b = np.array([31, 28, 19, 24, 32, 27, 16, 41, 23, 32, 29, 33])"
   ]
  },
  {
   "cell_type": "code",
   "execution_count": 6,
   "id": "d6d02a4b-e089-4ff0-8c24-f2bac2099574",
   "metadata": {},
   "outputs": [
    {
     "data": {
      "text/plain": [
       "23.75"
      ]
     },
     "execution_count": 6,
     "metadata": {},
     "output_type": "execute_result"
    }
   ],
   "source": [
    "a.mean()"
   ]
  },
  {
   "cell_type": "code",
   "execution_count": 7,
   "id": "236f1aad-5aa1-495d-927f-0123a03440e2",
   "metadata": {},
   "outputs": [
    {
     "data": {
      "text/plain": [
       "27.916666666666668"
      ]
     },
     "execution_count": 7,
     "metadata": {},
     "output_type": "execute_result"
    }
   ],
   "source": [
    "b.mean()"
   ]
  },
  {
   "cell_type": "code",
   "execution_count": 8,
   "id": "bff03537-2a35-451c-81fe-84e333b689f7",
   "metadata": {},
   "outputs": [
    {
     "data": {
      "text/plain": [
       "4.166666666666668"
      ]
     },
     "execution_count": 8,
     "metadata": {},
     "output_type": "execute_result"
    }
   ],
   "source": [
    "d = b.mean() - a.mean()\n",
    "d"
   ]
  },
  {
   "cell_type": "code",
   "execution_count": 9,
   "id": "9b6d3bf3-d33d-4106-a179-13b70a1a2abf",
   "metadata": {},
   "outputs": [
    {
     "name": "stdout",
     "output_type": "stream",
     "text": [
      "[[ 0. 23.]\n",
      " [ 0. 21.]\n",
      " [ 0. 19.]\n",
      " [ 0. 24.]\n",
      " [ 0. 35.]\n",
      " [ 0. 17.]\n",
      " [ 0. 18.]\n",
      " [ 0. 24.]\n",
      " [ 0. 33.]\n",
      " [ 0. 27.]\n",
      " [ 0. 21.]\n",
      " [ 0. 23.]\n",
      " [ 1. 31.]\n",
      " [ 1. 28.]\n",
      " [ 1. 19.]\n",
      " [ 1. 24.]\n",
      " [ 1. 32.]\n",
      " [ 1. 27.]\n",
      " [ 1. 16.]\n",
      " [ 1. 41.]\n",
      " [ 1. 23.]\n",
      " [ 1. 32.]\n",
      " [ 1. 29.]\n",
      " [ 1. 33.]]\n"
     ]
    }
   ],
   "source": [
    "sales = np.array([\n",
    "    np.append(np.zeros(len(a)), np.ones(len(b))),\n",
    "    np.append(a, b)\n",
    "]).T\n",
    "print(sales)"
   ]
  },
  {
   "cell_type": "code",
   "execution_count": 10,
   "id": "6a8dd0b6-3035-4d26-bf29-b7bdb8dfd98c",
   "metadata": {},
   "outputs": [
    {
     "name": "stdout",
     "output_type": "stream",
     "text": [
      "4.166666666666668\n"
     ]
    }
   ],
   "source": [
    "d = sales[sales[:, 0]==1][:, 1].mean() - sales[sales[:, 0]==0][:, 1].mean()\n",
    "print(d)"
   ]
  },
  {
   "cell_type": "code",
   "execution_count": 24,
   "id": "95e35815-5f1c-4993-ba0e-f1d5cc1df3d6",
   "metadata": {},
   "outputs": [],
   "source": [
    "def simulationAB(N):\n",
    "    experiment_diff_mean = np.empty(N)\n",
    "    for time in range(N):\n",
    "        labels = np.random.randint(0, 2, size=len(a) + len(b))\n",
    "        combined = np.append(a, b)\n",
    "        group_a = combined[labels == 0]\n",
    "        group_b = combined[labels == 1]\n",
    "        experiment_diff_mean[time] = group_b.mean() - group_a.mean()\n",
    "    return experiment_diff_mean\n"
   ]
  },
  {
   "cell_type": "code",
   "execution_count": 26,
   "id": "08bddd9e-7ead-4c72-a1b1-97a7580962d8",
   "metadata": {},
   "outputs": [],
   "source": [
    "def p_value(N, threshold=10):\n",
    "    e_diff = simulationAB(N)\n",
    "    p_value = (len(e_diff[e_diff > d]) / N) * 100\n",
    "    return f\"{threshold > p_value}: P Value = {p_value:1.2f}\""
   ]
  },
  {
   "cell_type": "code",
   "execution_count": 30,
   "id": "6f130a81-a3c0-4774-a918-e387888549ea",
   "metadata": {},
   "outputs": [
    {
     "name": "stdout",
     "output_type": "stream",
     "text": [
      "True: P Value = 4.60\n"
     ]
    }
   ],
   "source": [
    "print(p_value(1000))"
   ]
  },
  {
   "cell_type": "code",
   "execution_count": null,
   "id": "66c116a4-a1ff-492a-9339-c95e5c70f935",
   "metadata": {},
   "outputs": [],
   "source": []
  }
 ],
 "metadata": {
  "kernelspec": {
   "display_name": "Python 3 (ipykernel)",
   "language": "python",
   "name": "python3"
  },
  "language_info": {
   "codemirror_mode": {
    "name": "ipython",
    "version": 3
   },
   "file_extension": ".py",
   "mimetype": "text/x-python",
   "name": "python",
   "nbconvert_exporter": "python",
   "pygments_lexer": "ipython3",
   "version": "3.12.3"
  }
 },
 "nbformat": 4,
 "nbformat_minor": 5
}
